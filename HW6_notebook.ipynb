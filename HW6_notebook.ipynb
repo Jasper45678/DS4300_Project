{
 "cells": [
  {
   "cell_type": "markdown",
   "id": "c8a4bb82",
   "metadata": {},
   "source": [
    "## Example file of notebook of translating SQL query into MongoDB query\n",
    "#### Eddy Liu, Qixiang Jiang\n",
    "#### DS4300"
   ]
  },
  {
   "cell_type": "markdown",
   "id": "921a301e",
   "metadata": {},
   "source": [
    "## First we install the package for connecting mongoDB"
   ]
  },
  {
   "cell_type": "code",
   "execution_count": 1,
   "id": "u2gSVQ_v7psS",
   "metadata": {
    "id": "u2gSVQ_v7psS"
   },
   "outputs": [],
   "source": [
    "# pip install pymongo"
   ]
  },
  {
   "cell_type": "code",
   "execution_count": 4,
   "id": "f4813007",
   "metadata": {},
   "outputs": [],
   "source": [
    "from pymongo import MongoClient\n",
    "import numpy as np\n",
    "import pandas as pd"
   ]
  },
  {
   "cell_type": "markdown",
   "id": "6179587a",
   "metadata": {},
   "source": [
    "## # Define keywords and comparison operators"
   ]
  },
  {
   "cell_type": "code",
   "execution_count": 5,
   "id": "83997c13",
   "metadata": {},
   "outputs": [
    {
     "data": {
      "text/html": [
       "<div>\n",
       "<style scoped>\n",
       "    .dataframe tbody tr th:only-of-type {\n",
       "        vertical-align: middle;\n",
       "    }\n",
       "\n",
       "    .dataframe tbody tr th {\n",
       "        vertical-align: top;\n",
       "    }\n",
       "\n",
       "    .dataframe thead th {\n",
       "        text-align: right;\n",
       "    }\n",
       "</style>\n",
       "<table border=\"1\" class=\"dataframe\">\n",
       "  <thead>\n",
       "    <tr style=\"text-align: right;\">\n",
       "      <th></th>\n",
       "      <th>SQL</th>\n",
       "      <th>MQL</th>\n",
       "    </tr>\n",
       "  </thead>\n",
       "  <tbody>\n",
       "    <tr>\n",
       "      <th>0</th>\n",
       "      <td>=</td>\n",
       "      <td>$eq</td>\n",
       "    </tr>\n",
       "    <tr>\n",
       "      <th>1</th>\n",
       "      <td>&gt;</td>\n",
       "      <td>$gt</td>\n",
       "    </tr>\n",
       "    <tr>\n",
       "      <th>2</th>\n",
       "      <td>&lt;</td>\n",
       "      <td>$lt</td>\n",
       "    </tr>\n",
       "    <tr>\n",
       "      <th>3</th>\n",
       "      <td>&gt;=</td>\n",
       "      <td>$gte</td>\n",
       "    </tr>\n",
       "    <tr>\n",
       "      <th>4</th>\n",
       "      <td>&lt;=</td>\n",
       "      <td>$lte</td>\n",
       "    </tr>\n",
       "    <tr>\n",
       "      <th>5</th>\n",
       "      <td>or</td>\n",
       "      <td>$or</td>\n",
       "    </tr>\n",
       "    <tr>\n",
       "      <th>6</th>\n",
       "      <td>and</td>\n",
       "      <td>$and</td>\n",
       "    </tr>\n",
       "  </tbody>\n",
       "</table>\n",
       "</div>"
      ],
      "text/plain": [
       "   SQL   MQL\n",
       "0    =   $eq\n",
       "1    >   $gt\n",
       "2    <   $lt\n",
       "3   >=  $gte\n",
       "4   <=  $lte\n",
       "5   or   $or\n",
       "6  and  $and"
      ]
     },
     "execution_count": 5,
     "metadata": {},
     "output_type": "execute_result"
    }
   ],
   "source": [
    "keywords = [\"select\", \"from\", \"where\"]\n",
    "comp_ops = {\n",
    "    \"=\": \"$eq\",\n",
    "    \">\": \"$gt\",\n",
    "    \"<\": \"$lt\",\n",
    "    \">=\": \"$gte\",\n",
    "    \"<=\": \"$lte\",\n",
    "    \"or\": \"$or\",\n",
    "    \"and\": \"$and\"\n",
    "}\n",
    "\n",
    "# Create DataFrame to store the comparison operators mappings\n",
    "df_comparison_ops = pd.DataFrame(comp_ops.items(), columns=[\"SQL\", \"MQL\"])\n",
    "df_comparison_ops"
   ]
  },
  {
   "cell_type": "code",
   "execution_count": 43,
   "id": "ad1df692",
   "metadata": {},
   "outputs": [],
   "source": [
    "def query_comparison_ops(string,from_ql,to_ql):\n",
    "    return df_comparison_ops[df_comparison_ops[f\"{from_ql}\"]==f\"{string}\"][f\"{to_ql}\"].item()\n",
    "\n",
    "assert query_comparison_ops(\">\",\"SQL\",\"MQL\") == \"$gt\"\n",
    "assert query_comparison_ops(\"<\",\"SQL\",\"MQL\") == \"$lt\"\n",
    "assert query_comparison_ops(\"$gte\",\"MQL\",\"SQL\") == \">=\""
   ]
  },
  {
   "cell_type": "code",
   "execution_count": 5,
   "id": "89beb35d",
   "metadata": {},
   "outputs": [],
   "source": []
  },
  {
   "cell_type": "code",
   "execution_count": 47,
   "id": "1a2c8433",
   "metadata": {},
   "outputs": [
    {
     "data": {
      "text/plain": [
       "'select (sum(quantity)) from (test_data)'"
      ]
     },
     "execution_count": 47,
     "metadata": {},
     "output_type": "execute_result"
    }
   ],
   "source": [
    "# Sample SQL-like query\n",
    "# query = \"\"\"SELECT (a, SUM(b)) from (  \\n select (*) from   (x) )  WHERE (a > 30 OR   b = \"hello world\"   )\"\"\"\n",
    "query = \"\"\"SELECT (sum(quantity)) from (Test_data)\"\"\"\n",
    "# Clean up the query string\n",
    "query = \" \".join(query.lower().split())\n",
    "\n",
    "query"
   ]
  },
  {
   "cell_type": "code",
   "execution_count": 50,
   "id": "f2b4421e",
   "metadata": {},
   "outputs": [
    {
     "data": {
      "text/plain": [
       "'select {} from {}'"
      ]
     },
     "execution_count": 50,
     "metadata": {},
     "output_type": "execute_result"
    }
   ],
   "source": [
    "def parse_paren(string):\n",
    "    \"\"\"\n",
    "    runtime: O(n)\n",
    "    Parses parenthesis character by character.\n",
    "    \n",
    "    returns a tuple of \"outer\" parentheses.\n",
    "    \"\"\"\n",
    "    lvl = 0\n",
    "    last_open = None\n",
    "    parens_dict = {}\n",
    "    for i,char in enumerate(string):\n",
    "        assert lvl >= 0, \"check parenthesis\"\n",
    "        if char == \"(\":\n",
    "            if lvl==0:\n",
    "                last_open = i\n",
    "            lvl+=1\n",
    "        elif char == \")\":\n",
    "            lvl-=1\n",
    "            if lvl==0:\n",
    "                parens_dict[(last_open,i+1)] = string[last_open+1:i]\n",
    "    \n",
    "    return parens_dict\n",
    "\n",
    "# parse_paren(query)\n",
    "\n",
    "# Parse parentheses in the query string\n",
    "paren_tuples = parse_paren(query)\n",
    "\n",
    "paren_tuples = parse_paren(query)\n",
    "for i in range(len(paren_tuples.keys())):\n",
    "    i = (-i-1)\n",
    "    vals = list(paren_tuples.keys())[i]\n",
    "    query = (query[:vals[0]]+\"{}\"+query[vals[1]:])\n",
    "\n",
    "query"
   ]
  },
  {
   "cell_type": "code",
   "execution_count": null,
   "id": "9d88adac",
   "metadata": {},
   "outputs": [],
   "source": []
  },
  {
   "cell_type": "code",
   "execution_count": 51,
   "id": "2a814f23",
   "metadata": {},
   "outputs": [
    {
     "data": {
      "text/plain": [
       "{'select': 'sum(quantity)', 'from': 'test_data'}"
      ]
     },
     "execution_count": 51,
     "metadata": {},
     "output_type": "execute_result"
    }
   ],
   "source": [
    "# Parse the cleaned-up query string into a dictionary\n",
    "q_dict = {}\n",
    "last_kw = False\n",
    "appendable = \"\"\n",
    "paren_tuples_i = 0\n",
    "\n",
    "q_list = query.split()\n",
    "\n",
    "for i, element in enumerate(q_list):\n",
    "    if element in keywords:\n",
    "        if i == 0:\n",
    "            last_kw = element\n",
    "        else:\n",
    "            q_dict[last_kw] = appendable\n",
    "            last_kw = element\n",
    "            appendable = \"\"\n",
    "    elif element == \"{}\":\n",
    "        appendable += paren_tuples[list(paren_tuples.keys())[paren_tuples_i]]\n",
    "        paren_tuples_i += 1\n",
    "    else:\n",
    "        appendable += element\n",
    "\n",
    "q_dict[last_kw] = appendable\n",
    "\n",
    "q_dict"
   ]
  },
  {
   "cell_type": "code",
   "execution_count": 52,
   "id": "f60201d7",
   "metadata": {},
   "outputs": [
    {
     "name": "stdout",
     "output_type": "stream",
     "text": [
      "{'select': 'sum(quantity)', 'from': 'test_data'}\n"
     ]
    }
   ],
   "source": [
    "\n",
    "# Function to change keys from SQL to MQL\n",
    "def change_key(q_dict, q_from, q_to, comp_df=df_comparison_ops):\n",
    "    qd = q_dict.copy()\n",
    "\n",
    "    def get_to_rep():\n",
    "        return comp_df[comp_df[q_from] == key][q_to].item()\n",
    "\n",
    "    def overwrite(q_dict, q_from, q_to, comp_df=df_comparison_ops):\n",
    "        qd = q_dict.copy()\n",
    "        to_rep = get_to_rep()\n",
    "        qd[to_rep] = qd.pop(key)\n",
    "        return qd\n",
    "\n",
    "    for key in q_dict.keys():\n",
    "        if isinstance(q_dict[key], dict):\n",
    "            temp_qd = change_key(q_dict[key], q_from, q_to)\n",
    "            try:\n",
    "                qd[get_to_rep()] = temp_qd\n",
    "            except:\n",
    "                qd[key] = temp_qd\n",
    "\n",
    "        elif isinstance(q_dict[key], list):\n",
    "            temp_list = []\n",
    "            for element in q_dict[key]:\n",
    "                temp_list.append(change_key(element, q_from, q_to))\n",
    "            qd.pop(key)\n",
    "            qd[get_to_rep()] = temp_list\n",
    "\n",
    "        elif key in list(comp_df[q_from]):\n",
    "            qd = overwrite(qd, q_from, q_to, comp_df)\n",
    "    return qd\n",
    "\n",
    "# Convert the parsed SQL-like dictionary into MongoDB query syntax\n",
    "mongo_query = change_key(q_dict, \"SQL\", \"MQL\")\n",
    "print(mongo_query)"
   ]
  },
  {
   "cell_type": "code",
   "execution_count": null,
   "id": "fc6c015f",
   "metadata": {},
   "outputs": [],
   "source": []
  },
  {
   "cell_type": "markdown",
   "id": "f7f4448f",
   "metadata": {},
   "source": [
    "## Example query from SQL"
   ]
  },
  {
   "cell_type": "code",
   "execution_count": 27,
   "id": "816810b0-d2f1-473b-9168-37e6e3999b2b",
   "metadata": {
    "id": "816810b0-d2f1-473b-9168-37e6e3999b2b"
   },
   "outputs": [],
   "source": [
    "query = \"\"\"SELECT (a, SUM(b)) from (  \\n x )  WHERE (a > 30    )\"\"\""
   ]
  },
  {
   "cell_type": "markdown",
   "id": "102c586c",
   "metadata": {},
   "source": [
    "## Define the function to convert SQL into dictionary"
   ]
  },
  {
   "cell_type": "code",
   "execution_count": 65,
   "id": "404aa085-a034-49c7-b493-19b858216de9",
   "metadata": {
    "id": "404aa085-a034-49c7-b493-19b858216de9"
   },
   "outputs": [],
   "source": [
    "class Sql2Dict():\n",
    "    \"\"\"\n",
    "    This is a function-object that tries to convert\n",
    "    a sql query into a string, into a dictionary object.\n",
    "    \"\"\"\n",
    "    def __init__(self,query):\n",
    "        if query:\n",
    "            self.query = \" \".join(query.lower().split())\n",
    "            self.dict = {}\n",
    "            self.parse_one_layer()\n",
    "        else:\n",
    "            raise Exception(\"query not found\")\n",
    "\n",
    "    def __repr__(self):\n",
    "        \"\"\"extracts the dictionary representation\n",
    "        of this Sql2Dict object\n",
    "        \"\"\"\n",
    "        return f\"{self.dict}\"\n",
    "\n",
    "    def get_query(self):\n",
    "        return self.query\n",
    "    \n",
    "    def get_dict(self):\n",
    "        return self.dict.copy()\n",
    "    \n",
    "    \n",
    "    # Function to parse parentheses in the query string\n",
    "    def parse_paren(self,string):\n",
    "        lvl = 0\n",
    "        last_open = None\n",
    "        parens_dict = {}\n",
    "        for i, char in enumerate(string):\n",
    "            assert lvl >= 0, \"Check parenthesis\"\n",
    "            if char == \"(\":\n",
    "                if lvl == 0:\n",
    "                    last_open = i\n",
    "                lvl += 1\n",
    "            elif char == \")\":\n",
    "                lvl -= 1\n",
    "                if lvl == 0:\n",
    "                    parens_dict[(last_open, i+1)] = string[last_open+1:i]\n",
    "        return parens_dict\n",
    "    \n",
    "    \n",
    "    def parse_one_layer(self):\n",
    "        query = f\"{self.query}\"\n",
    "        # \"normalise\" the string\n",
    "        q_list = query.lower().split()\n",
    "        query = \" \".join(q_list)\n",
    "        \n",
    "        # parse \"inner\" attributes out of the query \n",
    "        paren_tuples = self.parse_paren(query)\n",
    "        for i in range(len(paren_tuples.keys())):\n",
    "            i = (-i-1)\n",
    "            vals = list(paren_tuples.keys())[i]\n",
    "            query = (query[:vals[0]]+\"{}\"+query[vals[1]:])\n",
    "        \n",
    "        # set up to reconsistute the inner tuples\n",
    "        q_dict = {}\n",
    "        last_kw = False\n",
    "        appendable = \"\"\n",
    "        paren_tuples_i = 0\n",
    "        \n",
    "        # print(query,\"\\n\")\n",
    "        \n",
    "        q_list = query.lower().split()\n",
    "        \n",
    "        for i,element in enumerate(q_list):\n",
    "            # print(i,element)\n",
    "            if (element in keywords):\n",
    "                if i == 0:\n",
    "                    # initialise \"last_kw\"\n",
    "                    last_kw = element\n",
    "                else:\n",
    "                    q_dict[last_kw] = appendable\n",
    "                    last_kw = element\n",
    "                    appendable = \"\"\n",
    "            elif (element ==\"{}\"):\n",
    "                # print(paren_tuples[list(paren_tuples.keys())[paren_tuples_i]])\n",
    "                appendable += paren_tuples[list(paren_tuples.keys())[paren_tuples_i]]\n",
    "                paren_tuples_i+=1\n",
    "            else:\n",
    "                appendable += element\n",
    "        \n",
    "        q_dict[last_kw] = appendable\n",
    "        \n",
    "        self.dict = q_dict\n",
    "        return q_dict"
   ]
  },
  {
   "cell_type": "markdown",
   "id": "b0c3766b",
   "metadata": {},
   "source": [
    "## Here is the output looks like"
   ]
  },
  {
   "cell_type": "code",
   "execution_count": 55,
   "id": "1a838c70-9921-408c-ae14-8c5e15ee9c23",
   "metadata": {
    "colab": {
     "base_uri": "https://localhost:8080/",
     "height": 35
    },
    "id": "1a838c70-9921-408c-ae14-8c5e15ee9c23",
    "outputId": "3b623450-65eb-46ec-9236-998d926c36bb"
   },
   "outputs": [
    {
     "data": {
      "text/plain": [
       "'select (a, sum(b)) from ( x ) where (a > 30 )'"
      ]
     },
     "execution_count": 55,
     "metadata": {},
     "output_type": "execute_result"
    }
   ],
   "source": [
    "query = \"\"\"SELECT (a, SUM(b)) from (  \\n x )  WHERE (a > 30    )\"\"\"\n",
    "\n",
    "Sql2Dict(query).get_qeury()"
   ]
  },
  {
   "cell_type": "code",
   "execution_count": 56,
   "id": "29c3adc7-e920-46a0-8d6f-f7849828792d",
   "metadata": {
    "colab": {
     "base_uri": "https://localhost:8080/"
    },
    "id": "29c3adc7-e920-46a0-8d6f-f7849828792d",
    "outputId": "32a67ae0-f82a-47a7-beed-554d8bbeec4b"
   },
   "outputs": [
    {
     "data": {
      "text/plain": [
       "{'select': 'a, sum(b)', 'from': ' x ', 'where': 'a > 30 '}"
      ]
     },
     "execution_count": 56,
     "metadata": {},
     "output_type": "execute_result"
    }
   ],
   "source": [
    "Sql2Dict(query).parse_one_layer()"
   ]
  },
  {
   "cell_type": "code",
   "execution_count": null,
   "id": "0f89408d-1d23-4346-88ad-cad6aa7eaf7f",
   "metadata": {
    "colab": {
     "base_uri": "https://localhost:8080/",
     "height": 35
    },
    "id": "0f89408d-1d23-4346-88ad-cad6aa7eaf7f",
    "outputId": "d2c10c32-c049-4c3d-deda-e40a22b17f5a"
   },
   "outputs": [],
   "source": []
  },
  {
   "cell_type": "markdown",
   "id": "3acca25d",
   "metadata": {
    "colab": {
     "base_uri": "https://localhost:8080/"
    },
    "id": "ffdcb0d2-bbed-4799-a09a-34643932e7d1",
    "outputId": "5af4a49d-3671-4bb3-b4e3-b772cf29bb5e"
   },
   "source": [
    "## Define Dictionary to Mongo query"
   ]
  },
  {
   "cell_type": "code",
   "execution_count": 38,
   "id": "05d9aa14-8f53-4da4-b972-c392186eb94e",
   "metadata": {
    "id": "05d9aa14-8f53-4da4-b972-c392186eb94e"
   },
   "outputs": [],
   "source": [
    "class Dict2Mongo():\n",
    "    \"\"\"\n",
    "    Tries to convert a \"query_dict\"\n",
    "    to a MongoQuery String.\n",
    "    \"\"\"\n",
    "    def __init__(self, query_dict: dict) -> None:\n",
    "        self.query_dict = query_dict\n",
    "        self.aggregations = self._parse_aggregations(query_dict.get('select', ''))\n",
    "\n",
    "    def to_mongo_query(self):\n",
    "        # Constructs the MongoDB aggregation pipeline\n",
    "        pipeline = []\n",
    "        for agg in self.aggregations:\n",
    "            pipeline.append(agg.mongo_repr())\n",
    "        return {'from': self.query_dict.get('from'), 'pipeline': pipeline}\n",
    "\n",
    "    def _parse_aggregations(self, select_str):\n",
    "        # Parses the select string to identify aggregation functions\n",
    "        agg_funcs = []\n",
    "        if 'avg' in select_str:\n",
    "            agg_funcs.append(self.avg(select_str.split('avg(')[-1].split(')')[0]))\n",
    "        if 'sum' in select_str:\n",
    "            agg_funcs.append(self.sum(select_str.split('sum(')[-1].split(')')[0]))\n",
    "        return agg_funcs\n",
    "\n",
    "    class avg:\n",
    "        def __init__(self, field):\n",
    "            self.field = field\n",
    "        \n",
    "        def mongo_repr(self):\n",
    "            return {'$group': {'_id': None, 'average': {'$avg': f'${self.field}'}}}\n",
    "\n",
    "        def __repr__(self):\n",
    "            return str(self.mongo_repr())\n",
    "\n",
    "    class sum:\n",
    "        def __init__(self, field):\n",
    "            self.field = field\n",
    "        \n",
    "        def mongo_repr(self):\n",
    "            return {'$group': {'_id': None, 'total': {'$sum': f'${self.field}'}}}\n",
    "\n",
    "        def __repr__(self):\n",
    "            return str(self.mongo_repr())"
   ]
  },
  {
   "cell_type": "markdown",
   "id": "117d6b57",
   "metadata": {},
   "source": [
    "## Example of how the Dict2Mongo could be used to"
   ]
  },
  {
   "cell_type": "code",
   "execution_count": 69,
   "id": "dbqc11VW33u1",
   "metadata": {
    "colab": {
     "base_uri": "https://localhost:8080/"
    },
    "id": "dbqc11VW33u1",
    "outputId": "72ca6214-04e6-4bea-8c34-34c6fbd335ad"
   },
   "outputs": [
    {
     "name": "stdout",
     "output_type": "stream",
     "text": [
      "{'select': 'sum(quantity)', 'from': 'test_data'}\n",
      "MongoDB Query for Sum Aggregation in Test_data: {'from': 'test_data', 'pipeline': [{'$group': {'_id': None, 'total': {'$sum': '$quantity'}}}]}\n"
     ]
    }
   ],
   "source": [
    "# # Define a query for summing quantities in the Test_data collection\n",
    "query = \"\"\"select (sum(quantity)) from Test_data\"\"\"\n",
    "\n",
    "dict_query = Sql2Dict(query).get_dict()\n",
    "print(dict_query)\n",
    "\n",
    "# query_1 = {\n",
    "#     \"select\": \"sum(quantity)\",\n",
    "#     \"from\": \"Test_data\"\n",
    "# }\n",
    "\n",
    "# Create an instance of Dict2Mongo with the updated query_1\n",
    "dict2mongo = Dict2Mongo(dict_query)\n",
    "\n",
    "# Generate and print the MongoDB query for the Test_data collection\n",
    "mongo_query = dict2mongo.to_mongo_query()\n",
    "print(\"MongoDB Query for Sum Aggregation in Test_data:\", mongo_query)\n"
   ]
  },
  {
   "cell_type": "code",
   "execution_count": null,
   "id": "708292e4",
   "metadata": {},
   "outputs": [],
   "source": []
  },
  {
   "cell_type": "code",
   "execution_count": 18,
   "id": "287f6412",
   "metadata": {},
   "outputs": [
    {
     "name": "stdout",
     "output_type": "stream",
     "text": [
      "[{'$group': {'_id': None, 'total': {'$sum': '$quantity'}}}]\n",
      "{'_id': None, 'total': 20}\n"
     ]
    }
   ],
   "source": [
    "\n",
    "# Connect to the local MongoDB instance\n",
    "client = MongoClient('mongodb://localhost:27017/')\n",
    "\n",
    "# Select your database\n",
    "db = client['Test_data']\n",
    "\n",
    "# Use the generated aggregation pipeline from dict2mongo_1 or dict2mongo_2\n",
    "pipeline = mongo_query['pipeline']  # For sum aggregation example\n",
    "\n",
    "print(pipeline)\n",
    "\n",
    "# Execute the aggregation query on the Test_data collection\n",
    "result = db['Test_data'].aggregate(pipeline)\n",
    "\n",
    "# Print the result\n",
    "for doc in result:\n",
    "    print(doc)\n"
   ]
  },
  {
   "cell_type": "markdown",
   "id": "e7693ebc",
   "metadata": {},
   "source": [
    "# Consolidating the two-step process:"
   ]
  },
  {
   "cell_type": "code",
   "execution_count": 72,
   "id": "20c97212",
   "metadata": {},
   "outputs": [],
   "source": [
    "def ql_translator(query:str = \"\"\"select (sum(quantity)) from Test_data\"\"\"):\n",
    "    # use the given query for to construct a dictionary object\n",
    "    dict_query = Sql2Dict(query).get_dict()\n",
    "    print(dict_query)\n",
    "\n",
    "    # Create an instance of Dict2Mongo with the updated query_1\n",
    "    dict2mongo = Dict2Mongo(dict_query)\n",
    "\n",
    "    # Generate and print the MongoDB query for the Test_data collection\n",
    "    mongo_query = dict2mongo.to_mongo_query()\n",
    "    print(\"MongoDB Query for Sum Aggregation in Test_data:\", mongo_query)\n",
    "    return mongo_query\n"
   ]
  },
  {
   "cell_type": "code",
   "execution_count": 73,
   "id": "0f7389fd",
   "metadata": {},
   "outputs": [
    {
     "name": "stdout",
     "output_type": "stream",
     "text": [
      "{'select': 'sum(quantity)', 'from': 'test_data'}\n",
      "MongoDB Query for Sum Aggregation in Test_data: {'from': 'test_data', 'pipeline': [{'$group': {'_id': None, 'total': {'$sum': '$quantity'}}}]}\n"
     ]
    },
    {
     "data": {
      "text/plain": [
       "{'from': 'test_data',\n",
       " 'pipeline': [{'$group': {'_id': None, 'total': {'$sum': '$quantity'}}}]}"
      ]
     },
     "execution_count": 73,
     "metadata": {},
     "output_type": "execute_result"
    }
   ],
   "source": [
    "ql_translator()"
   ]
  },
  {
   "cell_type": "code",
   "execution_count": null,
   "id": "0a44370e",
   "metadata": {},
   "outputs": [],
   "source": []
  }
 ],
 "metadata": {
  "colab": {
   "provenance": []
  },
  "kernelspec": {
   "display_name": "Python 3 (ipykernel)",
   "language": "python",
   "name": "python3"
  },
  "language_info": {
   "codemirror_mode": {
    "name": "ipython",
    "version": 3
   },
   "file_extension": ".py",
   "mimetype": "text/x-python",
   "name": "python",
   "nbconvert_exporter": "python",
   "pygments_lexer": "ipython3",
   "version": "3.11.7"
  }
 },
 "nbformat": 4,
 "nbformat_minor": 5
}
